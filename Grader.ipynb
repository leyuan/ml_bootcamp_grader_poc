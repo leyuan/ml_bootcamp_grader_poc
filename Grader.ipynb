{
 "cells": [
  {
   "cell_type": "code",
   "execution_count": 13,
   "metadata": {},
   "outputs": [],
   "source": [
    "from pathlib import Path"
   ]
  },
  {
   "cell_type": "code",
   "execution_count": null,
   "metadata": {},
   "outputs": [],
   "source": [
    "import importlib.util"
   ]
  },
  {
   "cell_type": "code",
   "execution_count": 2,
   "metadata": {},
   "outputs": [],
   "source": [
    "p = Path(\"submissions/\")"
   ]
  },
  {
   "cell_type": "code",
   "execution_count": 32,
   "metadata": {},
   "outputs": [
    {
     "name": "stdout",
     "output_type": "stream",
     "text": [
      "submissions\\quiz1.py\n",
      "submission x value is: 100\n",
      "--------------------\n",
      "submissions\\quiz2.py\n",
      "submission x value is: 10\n",
      "--------------------\n"
     ]
    }
   ],
   "source": [
    "for f in p.glob(\"*.py\"):\n",
    "    print(str(f))\n",
    "    spec = importlib.util.spec_from_file_location(\"sub\", str(f.absolute()))\n",
    "    sub = importlib.util.module_from_spec(spec)\n",
    "    spec.loader.exec_module(sub)\n",
    "    print(\"submission x value is:\", sub.x)\n",
    "    print('-' * 20)"
   ]
  },
  {
   "cell_type": "code",
   "execution_count": null,
   "metadata": {},
   "outputs": [],
   "source": []
  }
 ],
 "metadata": {
  "kernelspec": {
   "display_name": "Python 3",
   "language": "python",
   "name": "python3"
  },
  "language_info": {
   "codemirror_mode": {
    "name": "ipython",
    "version": 3
   },
   "file_extension": ".py",
   "mimetype": "text/x-python",
   "name": "python",
   "nbconvert_exporter": "python",
   "pygments_lexer": "ipython3",
   "version": "3.8.5"
  }
 },
 "nbformat": 4,
 "nbformat_minor": 4
}
